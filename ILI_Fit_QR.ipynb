{
 "cells": [
  {
   "cell_type": "code",
   "execution_count": null,
   "metadata": {},
   "outputs": [],
   "source": [
    "import pandas as pd\n",
    "import numpy as np\n",
    "import statsmodels.api as smf\n",
    "from statsmodels.regression.quantile_regression import QuantReg\n",
    "import matplotlib.pyplot as plt\n"
   ]
  },
  {
   "cell_type": "code",
   "execution_count": null,
   "metadata": {},
   "outputs": [],
   "source": [
    "def load_and_prepare_data(state):\n",
    "\n",
    "    # Load data\n",
    "    if(state=='US'):\n",
    "        data = pd.read_csv('./data/ILI_national_2002_2024.csv')\n",
    "        data = ILI_df[['date','year','week','weighted_ili']]\n",
    "        data = data.rename(columns={'weighted_ili':'US'})\n",
    "    else:\n",
    "        data = pd.read_csv('./data/ILI_states_2010_2024.csv')\n",
    "\n",
    "    # data['week'] = data['date'].dt.isocalendar().week.astype('int32')  # Get week of the year\n",
    "    # data = data[data.week!=53] #ignore week 53 for now\n",
    "    data['date'] = pd.to_datetime(data['date'])\n",
    "    data = data[(data.date<'2020-06-28') | (data.date>='2022-07-01')] #remove covid years\n",
    "    data = data[['date','week',state]] #    data = data.drop(columns=['year'])  # data = data.drop(columns=['DC']) \n",
    "    data_long = data.melt(id_vars=['date', 'week'], var_name='location', value_name='count')\n",
    "    # data_long = pd.get_dummies(data_long, columns=['location'], dtype='int32', drop_first=True)\n",
    "    return data_long"
   ]
  },
  {
   "cell_type": "code",
   "execution_count": null,
   "metadata": {},
   "outputs": [],
   "source": [
    "def generate_features(data, num_weeks, weeks_ahead):\n",
    "    # Create lagged features for the number of specified weeks\n",
    "    for i in range(1,num_weeks+1):\n",
    "        data[f'lag_{i}'] = data['count'].shift(i)\n",
    "\n",
    "    data['future_count'] = data['count'].shift(-weeks_ahead)\n",
    "    # Drop rows with NaN values that result from lagging\n",
    "    data = data.dropna()\n",
    "    return data"
   ]
  },
  {
   "cell_type": "code",
   "execution_count": null,
   "metadata": {},
   "outputs": [],
   "source": [
    "def fit_quantile_regression(data, predictors, quantiles):\n",
    "    \n",
    "    np.asarray(data[predictors])\n",
    "    results = {}\n",
    "    # Iterate over each quantile\n",
    "    for q in quantiles:\n",
    "        # Fit the quantile regression model\n",
    "        mod = QuantReg(data['future_count'], data[predictors])\n",
    "        res = mod.fit(q=q)\n",
    "        results[q] = res\n",
    "    return results"
   ]
  },
  {
   "cell_type": "code",
   "execution_count": null,
   "metadata": {},
   "outputs": [],
   "source": [
    "def calculate_wis(model_results, data, predictors, quantiles):\n",
    "   \n",
    "    # Generate quantile pairs\n",
    "    n = len(quantiles)\n",
    "    quantile_pairs = [(quantiles[i], quantiles[n-i-1]) for i in range(n//2)]\n",
    "\n",
    "    # Calculate the observed and predicted values\n",
    "    obs = data['future_count']\n",
    "\n",
    "    # Calculate Interval Scores (IS) for specified pairs of quantiles\n",
    "    wis = 0\n",
    "    for (q_lower, q_upper) in quantile_pairs:\n",
    "        p = q_upper - q_lower\n",
    "        alpha = 1 - p\n",
    "\n",
    "        # Retrieve predictions for the upper and lower quantiles\n",
    "        L = model_results[q_lower].predict(data[predictors])\n",
    "        U = model_results[q_upper].predict(data[predictors])\n",
    "\n",
    "        # Interval Score calculation\n",
    "        IS = (U - L) + (2 / alpha) * ((L - obs) * (obs < L) + (obs - U) * (obs > U))\n",
    "        \n",
    "        # Weight for each interval score, using alpha/2 as described\n",
    "        wis += (alpha / 2) * IS.mean()  # mean of IS over all observations\n",
    "\n",
    "    # Evaluate median accuracy separately if it is a distinct quantile\n",
    "    if 0.5 in quantiles:\n",
    "        \n",
    "        median_predictions = model_results[0.5].predict(data[predictors])\n",
    "        median_error = abs(median_predictions - obs).mean()\n",
    "        wis += median_error\n",
    "\n",
    "    K = len(quantile_pairs)\n",
    "    wis = wis/(K+0.5)\n",
    "    return wis"
   ]
  },
  {
   "cell_type": "code",
   "execution_count": null,
   "metadata": {},
   "outputs": [],
   "source": [
    "def calculate_q_loss(model_results, data, predictors, quantiles):\n",
    "\n",
    "    # Calculate the observed and predicted values\n",
    "    obs = data['future_count']\n",
    "\n",
    "    # Calculate Interval Scores (IS) for specified pairs of quantiles\n",
    "    q_loss = 0\n",
    "    for q in quantiles:\n",
    "        # Retrieve predictions for q\n",
    "        pred = model_results[q].predict(data[predictors])\n",
    "        # Calculate residuals\n",
    "        err = obs - pred\n",
    "        # Calculate quantile loss\n",
    "        loss = np.maximum(q * err, (q - 1) * err)\n",
    "        q_loss += loss.mean()\n",
    "    \n",
    "    return q_loss"
   ]
  },
  {
   "cell_type": "code",
   "execution_count": null,
   "metadata": {},
   "outputs": [],
   "source": [
    "def calculate_coverage(model_results, data, predictors, lower_quantile, upper_quantile):\n",
    "    # Predict using the specified quantiles\n",
    "    lower_predictions = model_results[lower_quantile].predict(data[predictors])\n",
    "    upper_predictions = model_results[upper_quantile].predict(data[predictors])\n",
    "    \n",
    "    # Calculate whether each actual value is within the predicted interval\n",
    "    within_interval = (data['future_count'] >= lower_predictions) & (data['future_count'] <= upper_predictions)\n",
    "    \n",
    "    # Calculate coverage percentage\n",
    "    coverage_percentage = within_interval.mean() * 100  # Convert proportion to percentage\n",
    "    return coverage_percentage"
   ]
  },
  {
   "cell_type": "code",
   "execution_count": null,
   "metadata": {},
   "outputs": [],
   "source": [
    "def plot_quantile_regression(model_results, data, predictors, quantiles, state, \n",
    "                             weeks_ahead, wis_score, q_loss, colors=None):\n",
    "    \n",
    "    plt.figure(figsize=(10, 4))\n",
    "    dates = data['date']\n",
    "    obs = data['future_count']\n",
    "    \n",
    "    for i, q in enumerate(quantiles):\n",
    "        predictions = model_results[q].predict(data[predictors])\n",
    "        if(colors is None):\n",
    "            plt.plot(dates, predictions, label=f'Quantile {q}',alpha=0.75)\n",
    "        else:\n",
    "            plt.plot(dates, predictions, label=f'Quantile {q}',alpha=0.75, color=colors[i])\n",
    "\n",
    "    plt.plot(dates, obs, 'o--', color='black', markersize=3, alpha=0.75, label='Observed')\n",
    "    # plt.scatter(time, obs, s=2, color='blue', label='Observed')\n",
    "    plt.title('state={}, horizon={} weeks (WIS={}, Q-loss={})'.format(state, weeks_ahead,wis_score,q_loss))    \n",
    "    plt.xlabel('week')\n",
    "    plt.ylabel('ILI')\n",
    "    plt.legend(fontsize=10)\n",
    "    plt.show()"
   ]
  },
  {
   "cell_type": "code",
   "execution_count": null,
   "metadata": {},
   "outputs": [],
   "source": [
    "num_weeks = 4  # Number of weeks to use for prediction\n",
    "\n",
    "weeks_ahead = 1  # Number of weeks ahead you want to predict\n",
    "\n",
    "quantiles = [0.010, 0.025, 0.050, 0.100, 0.150, 0.200, 0.250, 0.300, 0.350,\n",
    "             0.400, 0.450, 0.500, 0.550, 0.600, 0.650, 0.700, 0.750, 0.800,\n",
    "             0.850, 0.900, 0.950, 0.975, 0.990]\n",
    "\n",
    "# Load data\n",
    "state = 'US'\n",
    "data = load_and_prepare_data(state)\n",
    "\n",
    "# Prepare the data with lagged weeks\n",
    "data = generate_features(data, num_weeks, weeks_ahead)\n",
    "\n",
    "# Debug: Check data types\n",
    "# print(data.dtypes)\n",
    "# print(data.head())\n",
    "\n",
    "# Split data into training and testing sets\n",
    "train_data = data[data.date>='2022-07-01'] #data[data.date<'2019-07-01'] #data[data.date<'2016-10-15'] #\n",
    "test_data = data[data.date>='2022-07-01'] #data[data.date>='2019-07-01'] #data[data.date>='2016-10-15'] #\n",
    "\n",
    "predictors = ([f'lag_{i}' for i in range(1, num_weeks + 1)] + ['week'])# + \n",
    "              #[col for col in train_data.columns if 'location_' in col])\n",
    " \n",
    "# Fit the model\n",
    "model_results = fit_quantile_regression(train_data, predictors, quantiles)\n",
    "\n",
    " # Calculate WIS\n",
    "# wis_score_train = np.round(calculate_wis(model_results, train_data, predictors, quantiles),3)\n",
    "# print(f'Weighted Interval Score - train (length={len(train_data)}): {wis_score_train}')\n",
    "wis_score_test = np.round(calculate_wis(model_results, test_data, predictors, quantiles),3)\n",
    "print(f'Weighted Interval Score - test (length={len(test_data)}): {wis_score_test}')\n",
    "q_loss_test = np.round(calculate_q_loss(model_results, test_data, predictors, quantiles),3)\n",
    "print(f'Quantile loss - test (length={len(test_data)}): {q_loss_test}')"
   ]
  },
  {
   "cell_type": "code",
   "execution_count": null,
   "metadata": {},
   "outputs": [],
   "source": [
    "lower_quantile = 0.25 #0.025\n",
    "upper_quantile = 0.75 #0.975\n",
    "coverage_percentage = calculate_coverage(model_results, test_data, predictors, lower_quantile, upper_quantile)\n",
    "print(f'Coverage of actuals within the {lower_quantile * 100}% to {upper_quantile * 100}% interval: {coverage_percentage:.2f}%')"
   ]
  },
  {
   "cell_type": "code",
   "execution_count": null,
   "metadata": {},
   "outputs": [],
   "source": [
    "# Select a subset or a specific location to plot, or adjust the data selection as needed\n",
    "quantiles_show = [0.025, 0.50, 0.975]\n",
    "# specific_data = test_data[test_data['location'] == 'NY']\n",
    "#specific_data = test_data[test_data['location_US'] == 1]\n",
    "# plot_quantile_regression(model_results, specific_data, predictors, quantiles_show)\n",
    "plot_quantile_regression(model_results, test_data, predictors, quantiles_show, state, weeks_ahead, wis_score_test, q_loss_test, colors=['blue','green','red'])"
   ]
  },
  {
   "cell_type": "code",
   "execution_count": null,
   "metadata": {},
   "outputs": [],
   "source": [
    "# Print the summary of the models for each quantile\n",
    "# for q, result in model_results.items():\n",
    "#     print(f'Quantile: {q}')\n",
    "#     print(result.summary())\n",
    "print(model_results[0.5].summary())"
   ]
  }
 ],
 "metadata": {
  "kernelspec": {
   "display_name": "darts",
   "language": "python",
   "name": "python3"
  },
  "language_info": {
   "codemirror_mode": {
    "name": "ipython",
    "version": 3
   },
   "file_extension": ".py",
   "mimetype": "text/x-python",
   "name": "python",
   "nbconvert_exporter": "python",
   "pygments_lexer": "ipython3",
   "version": "3.12.3"
  }
 },
 "nbformat": 4,
 "nbformat_minor": 2
}
